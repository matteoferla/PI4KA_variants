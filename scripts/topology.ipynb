{
 "cells": [
  {
   "cell_type": "code",
   "execution_count": null,
   "metadata": {},
   "outputs": [],
   "source": [
    "from rdkit_to_params import Params\n",
    "# [C@@H]1([C@@H]([C@@H]([C@@H]([C@H]([C@@H]1O)O)O)O)OP([O-])(=O)[O-])O\n",
    "# 1,2-dibutyryl-sn-glycero-3-phospho-(1ʼD-myo-inositol)(1−)\n",
    "p = Params.from_smiles('CCCC(=O)OC[C@H](COP([O-])(=O)O[C@H]1[C@H](O)[C@@H](O)[C@H](O)[C@@H](O)[C@H]1O)OC(=O)CCC',\n",
    "                       name='PIB')\n",
    "p.name = 'PIB'\n",
    "p.dump('dibutyrylglycerophosphoinositol.params')\n",
    "#p.CHI=[]\n",
    "Chem.MolToPDBFile(p.mol, 'dibutyrylglycerophosphoinositol.pdb')"
   ]
  },
  {
   "cell_type": "code",
   "execution_count": null,
   "metadata": {},
   "outputs": [],
   "source": [
    "p = Params.from_smiles_w_pdbfile(pdb_file='ATP.pdb',\n",
    "                             smiles='Nc1ncnc2c1ncn2C1OC(COP(=O)([O-])OP(=O)([O-])OP(=O)([O-])[O-])C(O)C1O',\n",
    "                            name='ATP',\n",
    "                             proximityBonding=False\n",
    "                            )\n",
    "#p.CHI=[]\n",
    "p.dump('ATP.params')"
   ]
  },
  {
   "cell_type": "markdown",
   "metadata": {},
   "source": [
    "> FIND BLOCK WHERE E4S IS MADE"
   ]
  },
  {
   "cell_type": "code",
   "execution_count": null,
   "metadata": {},
   "outputs": [],
   "source": []
  }
 ],
 "metadata": {
  "kernelspec": {
   "display_name": "Python 3",
   "language": "python",
   "name": "python3"
  },
  "language_info": {
   "codemirror_mode": {
    "name": "ipython",
    "version": 3
   },
   "file_extension": ".py",
   "mimetype": "text/x-python",
   "name": "python",
   "nbconvert_exporter": "python",
   "pygments_lexer": "ipython3",
   "version": "3.7.6"
  }
 },
 "nbformat": 4,
 "nbformat_minor": 4
}
