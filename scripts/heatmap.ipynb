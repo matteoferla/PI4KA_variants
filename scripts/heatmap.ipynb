{
 "cells": [
  {
   "cell_type": "code",
   "execution_count": null,
   "metadata": {},
   "outputs": [],
   "source": [
    "import pandas as pd\n",
    "\n",
    "#scores = pd.read_excel('analysis.xlsx')\n",
    "scores = pd.read_csv('analysis_final2.csv')\n",
    "scores"
   ]
  },
  {
   "cell_type": "code",
   "execution_count": null,
   "metadata": {},
   "outputs": [],
   "source": [
    "n = 'complex'\n",
    "#n = 'interface'\n",
    "\n",
    "import pandas as pd\n",
    "import plotly.graph_objects as go\n",
    "\n",
    "def get_variant_order(df:pd.DataFrame) -> list:\n",
    "    return sorted(df.columns.values, key=lambda v: int(v[1:-1]))\n",
    "\n",
    "def get_annotation_for_heatmap(df:pd.DataFrame) -> list:\n",
    "    d = df.to_numpy()\n",
    "    annotations = []\n",
    "    for i in range(d.shape[0]):\n",
    "        for j in range(d.shape[1]):\n",
    "            if abs(d[i,j]) > 2:\n",
    "                text = f\"<b>{d[i,j]:.1f}</b>\"\n",
    "            else:\n",
    "                text = f\"{d[i,j]:.1f}\"\n",
    "            annotations.append(dict(\n",
    "                                    x=j,\n",
    "                                    y=i,\n",
    "                                    xref=\"x\",\n",
    "                                    yref=\"y\",\n",
    "                                    text=text,\n",
    "                                    showarrow=False\n",
    "                                    ))\n",
    "    return annotations\n",
    "\n",
    "ddG = scores.pivot_table(index=['model'], columns=['mutation'], values=f'{n}_ddG').round(1)\n",
    "ddG = ddG[get_variant_order(ddG)]\n",
    "\n",
    "fig = go.Figure(data=go.Heatmap(\n",
    "    z=ddG,\n",
    "    x=ddG.columns,\n",
    "    y=ddG.index,\n",
    "    hoverongaps=False,\n",
    "    colorscale='temps'))\n",
    "fig.data[0].update(zmin=-20, zmax=20)\n",
    "fig.update_layout(title=f'ΔΔG relative to model used for variants',\n",
    "                  annotations=get_annotation_for_heatmap(ddG),\n",
    "                  xaxis = {'title': 'Variant'},\n",
    "                  yaxis = {'title': 'Model'})\n",
    "fig.write_image(f'heatmap_{n}.png', scale=3)\n",
    "fig.show()"
   ]
  }
 ],
 "metadata": {
  "kernelspec": {
   "display_name": "Python 3",
   "language": "python",
   "name": "python3"
  },
  "language_info": {
   "codemirror_mode": {
    "name": "ipython",
    "version": 3
   },
   "file_extension": ".py",
   "mimetype": "text/x-python",
   "name": "python",
   "nbconvert_exporter": "python",
   "pygments_lexer": "ipython3",
   "version": "3.7.6"
  }
 },
 "nbformat": 4,
 "nbformat_minor": 4
}
