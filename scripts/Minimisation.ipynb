{
 "cells": [
  {
   "attachments": {},
   "cell_type": "markdown",
   "metadata": {},
   "source": [
    "## Minimisation of TTC7B structure\n",
    "\n",
    "PI4KA-TCC7B was downloaded from the PDB (`PDB:6BQ1`), while its density map was downloaded from EMD (`EMD-7129`)."
   ]
  },
  {
   "cell_type": "code",
   "execution_count": null,
   "metadata": {},
   "outputs": [],
   "source": [
    "### Loading pose\n",
    "template = 'pdb6bq1.pdb'\n",
    "edmap = 'emd_7129.map'\n",
    "\n",
    "import pyrosetta\n",
    "\n",
    "pyrosetta.init(extra_options='-no_optH false -mute all -ignore_unrecognized_res true -load_PDB_components false')\n",
    "\n",
    "pose = pyrosetta.rosetta.core.pose.Pose()\n",
    "params_paths = pyrosetta.rosetta.utility.vector1_string()\n",
    "params_paths.extend(['E4S.params'])\n",
    "resiset = pyrosetta.generate_nonstandard_residue_set(pose, params_paths)  # \n",
    "pyrosetta.rosetta.core.import_pose.pose_from_file(pose,\n",
    "                                                  template)  # pose_from_pdbstring or pose_from_file  "
   ]
  },
  {
   "cell_type": "code",
   "execution_count": null,
   "metadata": {},
   "outputs": [],
   "source": [
    "### Minimisation\n",
    "scorefxnED = pyrosetta.get_fa_scorefxn()\n",
    "ED = pyrosetta.rosetta.core.scoring.electron_density.getDensityMap(edmap)\n",
    "print(ED.matchPose(pose))\n",
    "sdsm = pyrosetta.rosetta.protocols.electron_density.SetupForDensityScoringMover()\n",
    "sdsm.apply(pose)\n",
    "elec_dens_fast = pyrosetta.rosetta.core.scoring.ScoreType.elec_dens_fast\n",
    "for w in (30, 20, 10):\n",
    "    scorefxnED.set_weight(elec_dens_fast, w)\n",
    "    relax = pyrosetta.rosetta.protocols.relax.FastRelax(scorefxnED, 5)\n",
    "    relax.apply(pose)\n",
    "reg_scorefxn = pyrosetta.get_fa_scorefxn()\n",
    "print('How good is the density match:', ED.matchPose(pose))\n",
    "print(reg_scorefxn.get_name(), reg_scorefxn(pose))\n",
    "pose.dump_pdb(template.replace('.pdb','.relax.pdb'))"
   ]
  },
  {
   "cell_type": "markdown",
   "metadata": {},
   "source": [
    "## Minimisation of TTC7A model\n",
    "Model was aligned in PyMOL and disordered loop deleted."
   ]
  },
  {
   "cell_type": "code",
   "execution_count": null,
   "metadata": {},
   "outputs": [],
   "source": [
    "### Loading pose\n",
    "template = 'wTTC7A.SwMod.delLoop.pdb'\n",
    "edmap = 'emd_7129.map'\n",
    "\n",
    "import pyrosetta\n",
    "\n",
    "pyrosetta.init(extra_options='-no_optH false -mute all -ignore_unrecognized_res true -load_PDB_components false')\n",
    "\n",
    "pose = pyrosetta.rosetta.core.pose.Pose()\n",
    "params_paths = pyrosetta.rosetta.utility.vector1_string()\n",
    "params_paths.extend(['E4S.params'])\n",
    "resiset = pyrosetta.generate_nonstandard_residue_set(pose, params_paths)  # \n",
    "pyrosetta.rosetta.core.import_pose.pose_from_file(pose,\n",
    "                                                  template)  # pose_from_pdbstring or pose_from_file"
   ]
  },
  {
   "cell_type": "markdown",
   "metadata": {},
   "source": [
    "To prevent the model from exploding a first fixed backbone relax was done."
   ]
  },
  {
   "cell_type": "code",
   "execution_count": null,
   "metadata": {},
   "outputs": [],
   "source": [
    "### Minimisation fixed bb\n",
    "movemap = pyrosetta.MoveMap()\n",
    "pose2pdb = pose.pdb_info().pose2pdb\n",
    "for i in range(1, pose.total_residue()+1):\n",
    "    resi, chain = map(lambda x: int(x) if x.isdigit() else x, pose2pdb(i).split())\n",
    "    if chain == 'B':\n",
    "        movemap.set_bb(i, False)\n",
    "        movemap.set_chi(i, True)\n",
    "    else:\n",
    "        movemap.set_bb(i, False)\n",
    "        movemap.set_chi(i, False)\n",
    "\n",
    "\n",
    "scorefxnED = pyrosetta.get_fa_scorefxn()\n",
    "ED = pyrosetta.rosetta.core.scoring.electron_density.getDensityMap('emd_7129.map')\n",
    "print(ED.matchPose(pose))\n",
    "sdsm = pyrosetta.rosetta.protocols.electron_density.SetupForDensityScoringMover()\n",
    "sdsm.apply(pose)\n",
    "elec_dens_fast = pyrosetta.rosetta.core.scoring.ScoreType.elec_dens_fast\n",
    "w = 30\n",
    "scorefxnED.set_weight(elec_dens_fast, w)\n",
    "relax = pyrosetta.rosetta.protocols.relax.FastRelax(scorefxnED, 5)\n",
    "relax.set_movemap(movemap)\n",
    "relax.set_movemap_disables_packing_of_fixed_chi_positions(True)\n",
    "relax.apply(pose)\n",
    "reg_scorefxn = pyrosetta.get_fa_scorefxn()\n",
    "print('How good is the density match:', ED.matchPose(pose))\n",
    "print(reg_scorefxn.get_name(), reg_scorefxn(pose))"
   ]
  },
  {
   "cell_type": "markdown",
   "metadata": {},
   "source": [
    "PyMOL has a nicer neighbour matching algorithm"
   ]
  },
  {
   "cell_type": "code",
   "execution_count": null,
   "metadata": {},
   "outputs": [],
   "source": [
    "import pymol2\n",
    "\n",
    "with pymol2.PyMOL() as pymol:\n",
    "    pymol.cmd.load(TTC7B_template, 'TTC7B')\n",
    "    resisB = [int(at.resi) for at in pymol.cmd.get_model('chain A and name CA and byres chain B around 5').atom]\n",
    "    pymol.cmd.delete()\n",
    "    pymol.cmd.load(TTC7A_template, 'TTC7A')\n",
    "    resisA = [int(at.resi) for at in pymol.cmd.get_model('chain A and name CA and byres chain B around 5').atom]\n",
    "    resis = list(set(resisA) + set(resisB))\n",
    "    \n",
    "movemap = pyrosetta.MoveMap()\n",
    "pose2pdb = pose.pdb_info().pose2pdb\n",
    "for i in range(1, pose.total_residue()+1):\n",
    "    resi, chain = map(lambda x: int(x) if x.isdigit() else x, pose2pdb(i).split())\n",
    "    if chain == 'B':\n",
    "        movemap.set_bb(i, True)\n",
    "        movemap.set_chi(i, True)\n",
    "    elif chain == 'A' and resi in resis:\n",
    "        movemap.set_bb(i, False)\n",
    "        movemap.set_chi(i, True)\n",
    "    else:\n",
    "        movemap.set_bb(i, False)\n",
    "        movemap.set_chi(i, False)\n",
    "\n",
    "\n",
    "scorefxnED = pyrosetta.get_fa_scorefxn()\n",
    "ED = pyrosetta.rosetta.core.scoring.electron_density.getDensityMap('emd_7129.map')\n",
    "print(ED.matchPose(pose))\n",
    "sdsm = pyrosetta.rosetta.protocols.electron_density.SetupForDensityScoringMover()\n",
    "sdsm.apply(pose)\n",
    "elec_dens_fast = pyrosetta.rosetta.core.scoring.ScoreType.elec_dens_fast\n",
    "for w in (30, 20, 10, 1):\n",
    "    scorefxnED.set_weight(elec_dens_fast, w)\n",
    "    relax = pyrosetta.rosetta.protocols.relax.FastRelax(scorefxnED, 5)\n",
    "    relax.set_movemap(movemap)\n",
    "    relax.set_movemap_disables_packing_of_fixed_chi_positions(True)\n",
    "    relax.apply(pose)\n",
    "reg_scorefxn = pyrosetta.get_fa_scorefxn()\n",
    "print('How good is the density match:', ED.matchPose(pose))\n",
    "print(reg_scorefxn.get_name(), reg_scorefxn(pose))\n",
    "pose.dump_pdb('wTTC7A.SwMod.relax.pdb')"
   ]
  }
 ],
 "metadata": {
  "kernelspec": {
   "display_name": "Python 3",
   "language": "python",
   "name": "python3"
  },
  "language_info": {
   "codemirror_mode": {
    "name": "ipython",
    "version": 3
   },
   "file_extension": ".py",
   "mimetype": "text/x-python",
   "name": "python",
   "nbconvert_exporter": "python",
   "pygments_lexer": "ipython3",
   "version": "3.7.6"
  }
 },
 "nbformat": 4,
 "nbformat_minor": 4
}
